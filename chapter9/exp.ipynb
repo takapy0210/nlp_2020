{
 "cells": [
  {
   "cell_type": "markdown",
   "source": [
    "# BERTでの多クラス分類（TF）\n",
    "\n",
    "\n",
    "参考サイト\n",
    "\n",
    "- Hugging Face: State-of-the-Art Natural Language Processing in ten lines of TensorFlow 2.0\n",
    "    - https://blog.tensorflow.org/2019/11/hugging-face-state-of-art-natural.html\n",
    "- HuggingFase公式\n",
    "    - https://huggingface.co/transformers/training.html?highlight=keras\n",
    "- (Part 1) tensorflow2でhuggingfaceのtransformersを使ってBERTを文書分類モデルに転移学習する\n",
    "    - https://tksmml.hatenablog.com/entry/2019/10/22/215000\n",
    "- (Part 2) tensorflow 2 でhugging faceのtransformers公式のBERT日本語学習済みモデルを文書分類モデルにfine-tuningする\n",
    "    - https://tksmml.hatenablog.com/entry/2019/12/15/090900\n"
   ],
   "metadata": {}
  },
  {
   "cell_type": "code",
   "execution_count": 23,
   "source": [
    "import warnings\n",
    "\n",
    "import pandas as pd\n",
    "import numpy as np\n",
    "import matplotlib.pyplot as plt\n",
    "from sklearn.metrics import accuracy_score\n",
    "from transformers import BertTokenizer, RobertaTokenizer, TFBertModel, TFRobertaModel\n",
    "\n",
    "import tensorflow as tf\n",
    "from tensorflow.keras.models import Model\n",
    "\n",
    "from tf_models import BertModel, RobertaModel\n",
    "from utils import load_data, preprocess, build_vocabulary, seed_everything"
   ],
   "outputs": [],
   "metadata": {}
  },
  {
   "cell_type": "code",
   "execution_count": 8,
   "source": [
    "# データのロード\n",
    "dfs = load_data()"
   ],
   "outputs": [],
   "metadata": {}
  },
  {
   "cell_type": "code",
   "execution_count": 9,
   "source": [
    "# 前処理\n",
    "dfs['train']['clean_title'] = dfs['train'][['title']].apply(preprocess)\n",
    "dfs['valid']['clean_title'] = dfs['valid'][['title']].apply(preprocess)\n",
    "dfs['test']['clean_title'] = dfs['test'][['title']].apply(preprocess)"
   ],
   "outputs": [],
   "metadata": {}
  },
  {
   "cell_type": "code",
   "execution_count": 10,
   "source": [
    "# 特徴量を取得\n",
    "X_train = dfs['train']['clean_title']\n",
    "X_valid = dfs['valid']['clean_title']\n",
    "X_test = dfs['test']['clean_title']"
   ],
   "outputs": [],
   "metadata": {}
  },
  {
   "cell_type": "code",
   "execution_count": 11,
   "source": [
    "# 目的変数の生成\n",
    "category_dict = {'b': 0, 't': 1, 'e': 2, 'm': 3}\n",
    "y_train = dfs['train']['category'].map(category_dict)\n",
    "y_valid = dfs['valid']['category'].map(category_dict)\n",
    "y_test = dfs['test']['category'].map(category_dict)"
   ],
   "outputs": [],
   "metadata": {}
  },
  {
   "cell_type": "markdown",
   "source": [
    "# BERTで学習"
   ],
   "metadata": {}
  },
  {
   "cell_type": "code",
   "execution_count": 16,
   "source": [
    "MODEL_NAME = 'bert-base-cased'\n",
    "BATCH_SIZE = 24\n",
    "AUTO = tf.data.experimental.AUTOTUNE\n",
    "MAX_LEN = 250"
   ],
   "outputs": [],
   "metadata": {}
  },
  {
   "cell_type": "code",
   "execution_count": 15,
   "source": [
    "# bert_model = TFBertModel.from_pretrained(MODEL_NAME)  # Automatically loads the config\n",
    "bert_tokenizer = BertTokenizer.from_pretrained(MODEL_NAME)"
   ],
   "outputs": [
    {
     "output_type": "display_data",
     "data": {
      "text/plain": [
       "Downloading:   0%|          | 0.00/570 [00:00<?, ?B/s]"
      ],
      "application/vnd.jupyter.widget-view+json": {
       "version_major": 2,
       "version_minor": 0,
       "model_id": "1f44d02269fd49399d8b4f49befbc3c1"
      }
     },
     "metadata": {}
    },
    {
     "output_type": "display_data",
     "data": {
      "text/plain": [
       "Downloading:   0%|          | 0.00/527M [00:00<?, ?B/s]"
      ],
      "application/vnd.jupyter.widget-view+json": {
       "version_major": 2,
       "version_minor": 0,
       "model_id": "428fe14ab8ad4d32a5ab063293641f4c"
      }
     },
     "metadata": {}
    },
    {
     "output_type": "stream",
     "name": "stderr",
     "text": [
      "Some layers from the model checkpoint at bert-base-cased were not used when initializing TFBertModel: ['mlm___cls', 'nsp___cls']\n",
      "- This IS expected if you are initializing TFBertModel from the checkpoint of a model trained on another task or with another architecture (e.g. initializing a BertForSequenceClassification model from a BertForPreTraining model).\n",
      "- This IS NOT expected if you are initializing TFBertModel from the checkpoint of a model that you expect to be exactly identical (initializing a BertForSequenceClassification model from a BertForSequenceClassification model).\n",
      "All the layers of TFBertModel were initialized from the model checkpoint at bert-base-cased.\n",
      "If your task is similar to the task the model of the checkpoint was trained on, you can already use TFBertModel for predictions without further training.\n"
     ]
    },
    {
     "output_type": "display_data",
     "data": {
      "text/plain": [
       "Downloading:   0%|          | 0.00/213k [00:00<?, ?B/s]"
      ],
      "application/vnd.jupyter.widget-view+json": {
       "version_major": 2,
       "version_minor": 0,
       "model_id": "3a4b15cffafe4f049ac76494cf1b37b9"
      }
     },
     "metadata": {}
    },
    {
     "output_type": "display_data",
     "data": {
      "text/plain": [
       "Downloading:   0%|          | 0.00/29.0 [00:00<?, ?B/s]"
      ],
      "application/vnd.jupyter.widget-view+json": {
       "version_major": 2,
       "version_minor": 0,
       "model_id": "f9e824be462d45a595e00e65c346bd48"
      }
     },
     "metadata": {}
    },
    {
     "output_type": "display_data",
     "data": {
      "text/plain": [
       "Downloading:   0%|          | 0.00/436k [00:00<?, ?B/s]"
      ],
      "application/vnd.jupyter.widget-view+json": {
       "version_major": 2,
       "version_minor": 0,
       "model_id": "bb3ad1ad5fa8420c8431319535d7b5da"
      }
     },
     "metadata": {}
    }
   ],
   "metadata": {}
  },
  {
   "cell_type": "code",
   "execution_count": 17,
   "source": [
    "def regular_encode(texts, tokenizer, maxlen):\n",
    "    \"\"\"This function tokenize the text according to a transformers model tokenizer\n",
    "    \"\"\"\n",
    "    enc_di = tokenizer.batch_encode_plus(\n",
    "        texts,\n",
    "        padding='max_length',\n",
    "        truncation=True,\n",
    "        max_length=maxlen,\n",
    "    )\n",
    "\n",
    "    return np.array(enc_di['input_ids'])\n",
    "\n",
    "\n",
    "def encode_texts(texts, tokenizer, maxlen=MAX_LEN):\n",
    "    \"\"\"This function encode our training sentences\n",
    "    \"\"\"\n",
    "    texts = regular_encode(texts.tolist(), tokenizer, maxlen)\n",
    "    return texts\n",
    "\n",
    "\n",
    "def transform_to_tensors(x, y, is_train=True):\n",
    "    \"\"\"Function to transform arrays to tensors\n",
    "    \"\"\"\n",
    "    if is_train:\n",
    "        _dataset = (\n",
    "            tf.data.Dataset\n",
    "            .from_tensor_slices((x, y))\n",
    "            .repeat()\n",
    "            .shuffle(2048)\n",
    "            .batch(BATCH_SIZE)\n",
    "            .prefetch(AUTO)\n",
    "        )\n",
    "    else:\n",
    "        _dataset = (\n",
    "            tf.data.Dataset\n",
    "            .from_tensor_slices((x, y))\n",
    "            .batch(BATCH_SIZE)\n",
    "            .prefetch(AUTO)\n",
    "        )\n",
    "    return _dataset"
   ],
   "outputs": [],
   "metadata": {}
  },
  {
   "cell_type": "code",
   "execution_count": 18,
   "source": [
    "X_train"
   ],
   "outputs": [
    {
     "output_type": "execute_result",
     "data": {
      "text/plain": [
       "0        update   outkast goes back  1990s hip hop  coa...\n",
       "1        china  stocks head  weekly gain  economic grow...\n",
       "2        rare diamond shows earth  interior   wet  conf...\n",
       "3        china credit gauge declines  officials seek  t...\n",
       "4        angelina jolie  daniel day lewis   dame maggie...\n",
       "                               ...                        \n",
       "10667    fannie mae  pay treasury      billion  quarter...\n",
       "10668    ultimate warrior killed   massive heart attack...\n",
       "10669    miley cyrus forced  cancel   bangerz  tour dat...\n",
       "10670    update   colorado reaps      mln  first month ...\n",
       "10671    update   putin ally expects flurry  china deal...\n",
       "Name: clean_title, Length: 10672, dtype: object"
      ]
     },
     "metadata": {},
     "execution_count": 18
    }
   ],
   "metadata": {}
  },
  {
   "cell_type": "code",
   "execution_count": 19,
   "source": [
    "# encode\n",
    "X_train = encode_texts(X_train, bert_tokenizer, MAX_LEN)\n",
    "X_valid = encode_texts(X_valid, bert_tokenizer, MAX_LEN)\n",
    "X_test = encode_texts(X_test, bert_tokenizer, MAX_LEN)"
   ],
   "outputs": [],
   "metadata": {}
  },
  {
   "cell_type": "code",
   "execution_count": 20,
   "source": [
    "X_train"
   ],
   "outputs": [
    {
     "output_type": "execute_result",
     "data": {
      "text/plain": [
       "array([[  101, 11984,  1149, ...,     0,     0,     0],\n",
       "       [  101,  5144,  1161, ...,     0,     0,     0],\n",
       "       [  101,  4054,  9883, ...,     0,     0,     0],\n",
       "       ...,\n",
       "       [  101,  2837,  1183, ...,     0,     0,     0],\n",
       "       [  101, 11984,  2942, ...,     0,     0,     0],\n",
       "       [  101, 11984,  1508, ...,     0,     0,     0]])"
      ]
     },
     "metadata": {},
     "execution_count": 20
    }
   ],
   "metadata": {}
  },
  {
   "cell_type": "code",
   "execution_count": 21,
   "source": [
    "train_dataset = transform_to_tensors(X_train, y_train, is_train=True)\n",
    "valid_dataset = transform_to_tensors(X_valid, y_valid, is_train=False)\n",
    "test_dataset = transform_to_tensors(X_test, y_test, is_train=False)"
   ],
   "outputs": [],
   "metadata": {}
  },
  {
   "cell_type": "code",
   "execution_count": 25,
   "source": [
    "class BertModel:\n",
    "\n",
    "    def __init__(self, model_name, max_len, output_dim=1):\n",
    "        \"\"\"モデルを構築する\n",
    "        \"\"\"\n",
    "        self.transformer = TFBertModel.from_pretrained(model_name)\n",
    "        self.input = tf.keras.layers.Input(shape=(max_len, ), dtype=tf.int32, name='input_word_ids')\n",
    "        self.fc = tf.keras.layers.Dense(output_dim, activation='softmax', name='output')\n",
    "\n",
    "    def build(self):\n",
    "        input_layer = self.input\n",
    "        sequence_output = self.transformer(input_layer)[0]\n",
    "        cls_token = sequence_output[:, 0, :]  # We only need the cls_token, resulting in a 2d array\n",
    "        output_layer = self.fc(cls_token)\n",
    "        model = Model(inputs=[input_layer], outputs=[output_layer])\n",
    "        return model"
   ],
   "outputs": [],
   "metadata": {}
  },
  {
   "cell_type": "code",
   "execution_count": 26,
   "source": [
    "seed_everything(42)\n",
    "tf.keras.backend.clear_session()\n",
    "model = BertModel(model_name=MODEL_NAME, max_len=MAX_LEN, output_dim=len(y_train.unique())).build()"
   ],
   "outputs": [
    {
     "output_type": "stream",
     "name": "stderr",
     "text": [
      "Some layers from the model checkpoint at bert-base-cased were not used when initializing TFBertModel: ['mlm___cls', 'nsp___cls']\n",
      "- This IS expected if you are initializing TFBertModel from the checkpoint of a model trained on another task or with another architecture (e.g. initializing a BertForSequenceClassification model from a BertForPreTraining model).\n",
      "- This IS NOT expected if you are initializing TFBertModel from the checkpoint of a model that you expect to be exactly identical (initializing a BertForSequenceClassification model from a BertForSequenceClassification model).\n",
      "All the layers of TFBertModel were initialized from the model checkpoint at bert-base-cased.\n",
      "If your task is similar to the task the model of the checkpoint was trained on, you can already use TFBertModel for predictions without further training.\n"
     ]
    },
    {
     "output_type": "stream",
     "name": "stdout",
     "text": [
      "WARNING:tensorflow:The parameters `output_attentions`, `output_hidden_states` and `use_cache` cannot be updated when calling a model.They have to be set to True/False in the config object (i.e.: `config=XConfig.from_pretrained('name', output_attentions=True)`).\n",
      "WARNING:tensorflow:AutoGraph could not transform <bound method Socket.send of <zmq.sugar.socket.Socket object at 0x7f46d05619f0>> and will run it as-is.\n",
      "Please report this to the TensorFlow team. When filing the bug, set the verbosity to 10 (on Linux, `export AUTOGRAPH_VERBOSITY=10`) and attach the full output.\n",
      "Cause: module, class, method, function, traceback, frame, or code object was expected, got cython_function_or_method\n",
      "To silence this warning, decorate the function with @tf.autograph.experimental.do_not_convert\n",
      "WARNING: AutoGraph could not transform <bound method Socket.send of <zmq.sugar.socket.Socket object at 0x7f46d05619f0>> and will run it as-is.\n",
      "Please report this to the TensorFlow team. When filing the bug, set the verbosity to 10 (on Linux, `export AUTOGRAPH_VERBOSITY=10`) and attach the full output.\n",
      "Cause: module, class, method, function, traceback, frame, or code object was expected, got cython_function_or_method\n",
      "To silence this warning, decorate the function with @tf.autograph.experimental.do_not_convert\n",
      "WARNING:tensorflow:AutoGraph could not transform <function wrap at 0x7f4700f2f440> and will run it as-is.\n",
      "Cause: while/else statement not yet supported\n",
      "To silence this warning, decorate the function with @tf.autograph.experimental.do_not_convert\n",
      "WARNING: AutoGraph could not transform <function wrap at 0x7f4700f2f440> and will run it as-is.\n",
      "Cause: while/else statement not yet supported\n",
      "To silence this warning, decorate the function with @tf.autograph.experimental.do_not_convert\n",
      "WARNING:tensorflow:The parameter `return_dict` cannot be set in graph mode and will always be set to `True`.\n",
      "WARNING:tensorflow:From /usr/local/lib/python3.7/dist-packages/tensorflow/python/ops/array_ops.py:5049: calling gather (from tensorflow.python.ops.array_ops) with validate_indices is deprecated and will be removed in a future version.\n",
      "Instructions for updating:\n",
      "The `validate_indices` argument has no effect. Indices are always validated on CPU and never validated on GPU.\n"
     ]
    }
   ],
   "metadata": {}
  },
  {
   "cell_type": "code",
   "execution_count": 27,
   "source": [
    "model.summary()"
   ],
   "outputs": [
    {
     "output_type": "stream",
     "name": "stdout",
     "text": [
      "Model: \"model\"\n",
      "_________________________________________________________________\n",
      "Layer (type)                 Output Shape              Param #   \n",
      "=================================================================\n",
      "input_word_ids (InputLayer)  [(None, 250)]             0         \n",
      "_________________________________________________________________\n",
      "tf_bert_model (TFBertModel)  TFBaseModelOutputWithPool 108310272 \n",
      "_________________________________________________________________\n",
      "tf.__operators__.getitem (Sl (None, 768)               0         \n",
      "_________________________________________________________________\n",
      "output (Dense)               (None, 4)                 3076      \n",
      "=================================================================\n",
      "Total params: 108,313,348\n",
      "Trainable params: 108,313,348\n",
      "Non-trainable params: 0\n",
      "_________________________________________________________________\n"
     ]
    }
   ],
   "metadata": {}
  },
  {
   "cell_type": "code",
   "execution_count": 28,
   "source": [
    "optimizer = tf.keras.optimizers.Adam(learning_rate=3e-5, epsilon=1e-08, clipnorm=1.0)\n",
    "loss = tf.keras.losses.SparseCategoricalCrossentropy(from_logits=True)\n",
    "metric = tf.keras.metrics.SparseCategoricalAccuracy('accuracy')\n",
    "\n",
    "model.compile(\n",
    "    optimizer=optimizer,\n",
    "    loss=loss,\n",
    "    metrics=[metric]\n",
    ")"
   ],
   "outputs": [],
   "metadata": {}
  },
  {
   "cell_type": "code",
   "execution_count": 29,
   "source": [
    "steps = X_train.shape[0] // (BATCH_SIZE * 16)\n",
    "result = model.fit(\n",
    "    train_dataset,\n",
    "    validation_data=valid_dataset,\n",
    "    batch_size=BATCH_SIZE,\n",
    "    epochs=3,\n",
    "    steps_per_epoch=steps\n",
    ")"
   ],
   "outputs": [
    {
     "output_type": "stream",
     "name": "stdout",
     "text": [
      "Epoch 1/3\n",
      "WARNING:tensorflow:The parameters `output_attentions`, `output_hidden_states` and `use_cache` cannot be updated when calling a model.They have to be set to True/False in the config object (i.e.: `config=XConfig.from_pretrained('name', output_attentions=True)`).\n",
      "WARNING:tensorflow:The parameter `return_dict` cannot be set in graph mode and will always be set to `True`.\n"
     ]
    },
    {
     "output_type": "stream",
     "name": "stderr",
     "text": [
      "/usr/local/lib/python3.7/dist-packages/tensorflow/python/keras/backend.py:4930: UserWarning:\n",
      "\n",
      "\"`sparse_categorical_crossentropy` received `from_logits=True`, but the `output` argument was produced by a sigmoid or softmax activation and thus does not represent logits. Was this intended?\"\n",
      "\n"
     ]
    },
    {
     "output_type": "stream",
     "name": "stdout",
     "text": [
      "WARNING:tensorflow:Gradients do not exist for variables ['tf_bert_model/bert/pooler/dense/kernel:0', 'tf_bert_model/bert/pooler/dense/bias:0'] when minimizing the loss.\n",
      "WARNING:tensorflow:The parameters `output_attentions`, `output_hidden_states` and `use_cache` cannot be updated when calling a model.They have to be set to True/False in the config object (i.e.: `config=XConfig.from_pretrained('name', output_attentions=True)`).\n",
      "WARNING:tensorflow:The parameter `return_dict` cannot be set in graph mode and will always be set to `True`.\n",
      "WARNING:tensorflow:Gradients do not exist for variables ['tf_bert_model/bert/pooler/dense/kernel:0', 'tf_bert_model/bert/pooler/dense/bias:0'] when minimizing the loss.\n",
      "27/27 [==============================] - ETA: 0s - loss: 1.1933 - accuracy: 0.4861WARNING:tensorflow:The parameters `output_attentions`, `output_hidden_states` and `use_cache` cannot be updated when calling a model.They have to be set to True/False in the config object (i.e.: `config=XConfig.from_pretrained('name', output_attentions=True)`).\n",
      "WARNING:tensorflow:The parameter `return_dict` cannot be set in graph mode and will always be set to `True`.\n",
      "27/27 [==============================] - 59s 1s/step - loss: 1.1933 - accuracy: 0.4861 - val_loss: 0.9039 - val_accuracy: 0.7234\n",
      "Epoch 2/3\n",
      "27/27 [==============================] - 33s 1s/step - loss: 0.6907 - accuracy: 0.7623 - val_loss: 0.5145 - val_accuracy: 0.8193\n",
      "Epoch 3/3\n",
      "27/27 [==============================] - 33s 1s/step - loss: 0.5179 - accuracy: 0.8148 - val_loss: 0.4615 - val_accuracy: 0.8291\n"
     ]
    }
   ],
   "metadata": {}
  },
  {
   "cell_type": "code",
   "execution_count": 30,
   "source": [
    "pd.DataFrame(result.history).plot(figsize=(10, 6))"
   ],
   "outputs": [
    {
     "output_type": "execute_result",
     "data": {
      "text/plain": [
       "<matplotlib.axes._subplots.AxesSubplot at 0x7f456c300850>"
      ]
     },
     "metadata": {},
     "execution_count": 30
    },
    {
     "output_type": "display_data",
     "data": {
      "text/plain": [
       "<Figure size 720x432 with 1 Axes>"
      ],
      "image/png": "[encoded data removed]"
     },
     "metadata": {
      "needs_background": "light"
     }
    }
   ],
   "metadata": {}
  },
  {
   "cell_type": "code",
   "execution_count": 31,
   "source": [
    "# 推論\n",
    "y_train_preds = model.predict(X_train, verbose=1)\n",
    "y_valid_preds = model.predict(X_valid, verbose=1)\n",
    "y_test_preds = model.predict(X_test, verbose=1)"
   ],
   "outputs": [
    {
     "output_type": "stream",
     "name": "stdout",
     "text": [
      "WARNING:tensorflow:The parameters `output_attentions`, `output_hidden_states` and `use_cache` cannot be updated when calling a model.They have to be set to True/False in the config object (i.e.: `config=XConfig.from_pretrained('name', output_attentions=True)`).\n",
      "WARNING:tensorflow:The parameter `return_dict` cannot be set in graph mode and will always be set to `True`.\n",
      "334/334 [==============================] - 108s 310ms/step\n",
      "42/42 [==============================] - 13s 308ms/step\n",
      "42/42 [==============================] - 13s 308ms/step\n"
     ]
    }
   ],
   "metadata": {}
  },
  {
   "cell_type": "code",
   "execution_count": 32,
   "source": [
    "y_train_preds"
   ],
   "outputs": [
    {
     "output_type": "execute_result",
     "data": {
      "text/plain": [
       "array([[2.0187939e-02, 2.7619533e-02, 9.3960875e-01, 1.2583814e-02],\n",
       "       [9.9542195e-01, 3.9707078e-03, 2.6466904e-04, 3.4268916e-04],\n",
       "       [2.8343579e-01, 5.7651573e-01, 7.5127400e-02, 6.4921126e-02],\n",
       "       ...,\n",
       "       [1.0202622e-02, 1.2631279e-02, 9.7265619e-01, 4.5099203e-03],\n",
       "       [7.5909489e-01, 9.5179327e-02, 9.2228102e-03, 1.3650295e-01],\n",
       "       [9.5987582e-01, 3.3854391e-02, 3.4627144e-03, 2.8071897e-03]],\n",
       "      dtype=float32)"
      ]
     },
     "metadata": {},
     "execution_count": 32
    }
   ],
   "metadata": {}
  },
  {
   "cell_type": "code",
   "execution_count": 33,
   "source": [
    "# 一番確率の高いクラスを取得\n",
    "y_train_preds = np.argmax(y_train_preds, 1)\n",
    "y_valid_preds = np.argmax(y_valid_preds, 1)\n",
    "y_test_preds = np.argmax(y_test_preds, 1)"
   ],
   "outputs": [],
   "metadata": {}
  },
  {
   "cell_type": "code",
   "execution_count": 34,
   "source": [
    "y_train_preds"
   ],
   "outputs": [
    {
     "output_type": "execute_result",
     "data": {
      "text/plain": [
       "array([2, 0, 1, ..., 2, 0, 0])"
      ]
     },
     "metadata": {},
     "execution_count": 34
    }
   ],
   "metadata": {}
  },
  {
   "cell_type": "code",
   "execution_count": 35,
   "source": [
    "# 正解率を出力\n",
    "print(f'Train Accuracy: {accuracy_score(y_train, y_train_preds)}')\n",
    "print(f'Valid Accuracy: {accuracy_score(y_valid, y_valid_preds)}')\n",
    "print(f'Test Accuracy: {accuracy_score(y_test, y_test_preds)}')"
   ],
   "outputs": [
    {
     "output_type": "stream",
     "name": "stdout",
     "text": [
      "Train Accuracy: 0.8563530734632684\n",
      "Valid Accuracy: 0.8290854572713643\n",
      "Test Accuracy: 0.8403298350824587\n"
     ]
    }
   ],
   "metadata": {}
  },
  {
   "cell_type": "code",
   "execution_count": null,
   "source": [],
   "outputs": [],
   "metadata": {}
  },
  {
   "cell_type": "code",
   "execution_count": null,
   "source": [],
   "outputs": [],
   "metadata": {}
  },
  {
   "cell_type": "code",
   "execution_count": null,
   "source": [],
   "outputs": [],
   "metadata": {}
  },
  {
   "cell_type": "code",
   "execution_count": null,
   "source": [],
   "outputs": [],
   "metadata": {}
  },
  {
   "cell_type": "code",
   "execution_count": null,
   "source": [],
   "outputs": [],
   "metadata": {}
  },
  {
   "cell_type": "code",
   "execution_count": null,
   "source": [],
   "outputs": [],
   "metadata": {}
  },
  {
   "cell_type": "code",
   "execution_count": null,
   "source": [],
   "outputs": [],
   "metadata": {}
  },
  {
   "cell_type": "code",
   "execution_count": null,
   "source": [],
   "outputs": [],
   "metadata": {}
  },
  {
   "cell_type": "code",
   "execution_count": null,
   "source": [],
   "outputs": [],
   "metadata": {}
  },
  {
   "cell_type": "code",
   "execution_count": null,
   "source": [],
   "outputs": [],
   "metadata": {}
  },
  {
   "cell_type": "code",
   "execution_count": null,
   "source": [],
   "outputs": [],
   "metadata": {}
  },
  {
   "cell_type": "code",
   "execution_count": null,
   "source": [],
   "outputs": [],
   "metadata": {}
  },
  {
   "cell_type": "code",
   "execution_count": null,
   "source": [],
   "outputs": [],
   "metadata": {}
  }
 ],
 "metadata": {
  "orig_nbformat": 4,
  "language_info": {
   "name": "python",
   "version": "3.7.11",
   "mimetype": "text/x-python",
   "codemirror_mode": {
    "name": "ipython",
    "version": 3
   },
   "pygments_lexer": "ipython3",
   "nbconvert_exporter": "python",
   "file_extension": ".py"
  },
  "kernelspec": {
   "name": "python3",
   "display_name": "Python 3.7.11 64-bit"
  },
  "interpreter": {
   "hash": "31f2aee4e71d21fbe5cf8b01ff0e069b9275f58929596ceb00d14d90e3e16cd6"
  }
 },
 "nbformat": 4,
 "nbformat_minor": 2
}